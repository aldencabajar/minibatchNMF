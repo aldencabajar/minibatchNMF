{
 "cells": [
  {
   "cell_type": "markdown",
   "metadata": {},
   "source": [
    "# Beta-NMF with minibatch updates for GPGPU\n",
    "In this example the performance different mini-batch algorithms for Beta-NMF introduced in [serizel2016] are compared. If you need a description on how to use Beta-NMF is used to train dictionnary on a dataset X and project some test data Y on the dictionnary trained on X please refer to the [notebook related to Beta-NMF].\n",
    "\n",
    "More detailled description of the algorithms tested below can be found in:\n",
    "\n",
    "[serizel2016]:http://biblio.telecom-paristech.fr/cgi-bin/download.cgi?id=16155 \"R. Serizel, S. Essid, and G. Richard. “Mini-batch stochastic approaches for accelerated multiplicative updates in nonnegative matrix factorisation with beta-divergence”. Accepted for publication In *Proc. of MLSP*, p. 5, 2016.\"\n",
    "[notebook related to Beta-NMF]: https://github.com/rserizel/beta_nmf/blob/master/BetaNMF_howto.ipynb\n",
    "\n",
    "> R. Serizel, S. Essid, and G. Richard. “Mini-batch stochastic approaches for accelerated multiplicative updates in nonnegative matrix factorisation with beta-divergence”. Accepted for publication In *Proc. of MLSP*, p. 5, 2016.\n",
    "\n",
    "### Links\n",
    "Source code is available at https://github.com/rserizel/minibatchNMF\n",
    "\n",
    "Dcoumentation is available at http://rserizel.github.io/minibatchNMF/"
   ]
  },
  {
   "cell_type": "markdown",
   "metadata": {},
   "source": [
    "## Import packages\n",
    "If you plan on using GPGPU make sure you set the Theano flags correctly (see [Theano documentation]).\n",
    "\n",
    "[Theano documentation]: http://deeplearning.net/software/theano/ "
   ]
  },
  {
   "cell_type": "code",
   "execution_count": 13,
   "metadata": {
    "collapsed": false
   },
   "outputs": [],
   "source": [
    "from beta_nmf_minibatch import BetaNMF\n",
    "from base import nnrandn\n",
    "import numpy as np"
   ]
  },
  {
   "cell_type": "markdown",
   "metadata": {},
   "source": [
    "The following imports are needed for plotting only. You can discard them if you do not intend to plot the results or to use another package to manage your plots."
   ]
  },
  {
   "cell_type": "code",
   "execution_count": 14,
   "metadata": {
    "collapsed": false
   },
   "outputs": [],
   "source": [
    "from bokeh.plotting import figure, show\n",
    "from bokeh.io import output_notebook"
   ]
  },
  {
   "cell_type": "markdown",
   "metadata": {},
   "source": [
    "## Initialiase common variables\n",
    "#### Parameters\n",
    "* `n_iter` : number of iterations to perform\n",
    "* `n_components` : number of components for the decomposition\n",
    "* `batch_size` : size of the mini-batch, depends partly on the amount of data\n",
    "    * low batch size means a behaviour closer to stochastic gradient (SG)\n",
    "    * high batch size mean a behaviour closer do full gradient (FG)\n",
    "* `cache1_size` : size of the first cache. Adjust this variable to fit as much data as possible in the GPGPU memory and limits data transfers between central memory and GPGPU memory\n",
    "* `sag_mem` : number of batches used to compute average in stochastic average gradient ([SAG]) based algorithms. SAG is a method recently introduced for optimizing cost functions that are a sum of convex functions (which is the case here). SAG provide an intermediate between FG-like methods and SG-like methods. SAG then allows to maintain convergence rate close to FG methods with a complexity comparable to SG methods.\n",
    "    * `sag_mem = 0` is equivalent to SG algorithms\n",
    "\n",
    "[SAG]: https://hal.inria.fr/hal-00860051/PDF/sag_journal.pdf \"M. Schmidt, N. Le Roux, and F. Bach, “Minimizing Finite Sums with the Stochastic Average Gradient,” *ArXiv e-prints*, Sept. 2013.\"\n",
    "\n",
    "#### Variables\n",
    "* `X` : data to decompose\n",
    "* `W_init` : initial value for W (common to all the algorithms tested below)\n",
    "* `H_init` : initial value for H (common to all the algorithms tested below)"
   ]
  },
  {
   "cell_type": "code",
   "execution_count": 15,
   "metadata": {
    "collapsed": false
   },
   "outputs": [],
   "source": [
    "n_iter = 100\n",
    "n_components = 10\n",
    "beta = 2\n",
    "batch_size = 100\n",
    "cache1_size = 500\n",
    "sag_mem = 2\n",
    "X = nnrandn((500, 20))\n",
    "H_init = nnrandn((X.shape[0], n_components))\n",
    "W_init = nnrandn((X.shape[1], n_components))"
   ]
  },
  {
   "cell_type": "markdown",
   "metadata": {},
   "source": [
    "## Mini-batch BetaNMF\n",
    "This algorithm is equivalent to standard beta-NMF. The main advantage is that it allows to use GPGPU to decomposed large matrices that would not fit in GPGPU memory otherwise"
   ]
  },
  {
   "cell_type": "code",
   "execution_count": 16,
   "metadata": {
    "collapsed": false,
    "scrolled": true
   },
   "outputs": [
    {
     "name": "stdout",
     "output_type": "stream",
     "text": [
      "Intitial score = 202196.45\n",
      "Fitting NMF model with 100 iterations....\n",
      "Iteration 10 / 100, duration=632.0ms, cost=1254.292308\n",
      "Iteration 20 / 100, duration=1161.0ms, cost=1031.063437\n",
      "Iteration 30 / 100, duration=1690.0ms, cost=942.999003\n",
      "Iteration 40 / 100, duration=2126.0ms, cost=899.741224\n",
      "Iteration 50 / 100, duration=2614.0ms, cost=876.343654\n",
      "Iteration 60 / 100, duration=3049.0ms, cost=861.949085\n",
      "Iteration 70 / 100, duration=3565.0ms, cost=852.586895\n",
      "Iteration 80 / 100, duration=4000.0ms, cost=845.868132\n",
      "Iteration 90 / 100, duration=4492.0ms, cost=841.049792\n",
      "Iteration 100 / 100, duration=4952.0ms, cost=837.416737\n",
      "Iteration 100 / 100, duration=4952.0ms, cost=837.416737\n"
     ]
    }
   ],
   "source": [
    "nmf = BetaNMF(X.shape, n_components, beta, n_iter, verbose=10,\n",
    "              cache1_size=cache1_size, batch_size=batch_size,\n",
    "              W=W_init, H=H_init, init_mode='custom', solver='mu_batch')\n",
    "score_mu_batch = nmf.fit(X)"
   ]
  },
  {
   "cell_type": "markdown",
   "metadata": {},
   "source": [
    "## Asymmetric SG mini-batch MU (ASG-MU) for BetaNMF\n",
    "This algorithm updates `W` for each mini-batch, this approach is denoted asymmetric SG mini-batch MU (ASG-MU) as `H` and `W` are updated asymmetrically (the full `H` is updated once per epoch while `W` is updated for each mini-batch)."
   ]
  },
  {
   "cell_type": "code",
   "execution_count": 17,
   "metadata": {
    "collapsed": false
   },
   "outputs": [
    {
     "name": "stdout",
     "output_type": "stream",
     "text": [
      "Intitial score = 202196.45\n",
      "Fitting NMF model with 100 iterations....\n",
      "Iteration 10 / 100, duration=590.0ms, cost=1130.336033\n",
      "Iteration 20 / 100, duration=1237.0ms, cost=912.128476\n",
      "Iteration 30 / 100, duration=1739.0ms, cost=867.494315\n",
      "Iteration 40 / 100, duration=2220.0ms, cost=853.898667\n",
      "Iteration 50 / 100, duration=2706.0ms, cost=847.255570\n",
      "Iteration 60 / 100, duration=3191.0ms, cost=843.121395\n",
      "Iteration 70 / 100, duration=3680.0ms, cost=840.568473\n",
      "Iteration 80 / 100, duration=4188.0ms, cost=838.396760\n",
      "Iteration 90 / 100, duration=4674.0ms, cost=836.763185\n",
      "Iteration 100 / 100, duration=5272.0ms, cost=835.340003\n",
      "Iteration 100 / 100, duration=5272.0ms, cost=835.340003\n"
     ]
    }
   ],
   "source": [
    "nmf = BetaNMF(X.shape, n_components, beta, n_iter, verbose=10,\n",
    "              cache1_size=cache1_size, batch_size=batch_size,\n",
    "              W=W_init, H=H_init, init_mode='custom', solver='asg_mu')\n",
    "score_asg_mu = nmf.fit(X)"
   ]
  },
  {
   "cell_type": "markdown",
   "metadata": {},
   "source": [
    "## Greedy SG mini-batch MU (GSG-MU) for BetaNMF\n",
    "This algorithm updates `W` only once per epoch on a randomly selected mini-batch."
   ]
  },
  {
   "cell_type": "code",
   "execution_count": 18,
   "metadata": {
    "collapsed": false
   },
   "outputs": [
    {
     "name": "stdout",
     "output_type": "stream",
     "text": [
      "Intitial score = 202196.45\n",
      "Fitting NMF model with 100 iterations....\n",
      "Iteration 10 / 100, duration=703.0ms, cost=1248.259570\n",
      "Iteration 20 / 100, duration=1130.0ms, cost=1029.989062\n",
      "Iteration 30 / 100, duration=1556.0ms, cost=954.874274\n",
      "Iteration 40 / 100, duration=1991.0ms, cost=920.177901\n",
      "Iteration 50 / 100, duration=2429.0ms, cost=903.540365\n",
      "Iteration 60 / 100, duration=2942.0ms, cost=894.954759\n",
      "Iteration 70 / 100, duration=3373.0ms, cost=889.397084\n",
      "Iteration 80 / 100, duration=3858.0ms, cost=885.006145\n",
      "Iteration 90 / 100, duration=4362.0ms, cost=881.793956\n",
      "Iteration 100 / 100, duration=4791.0ms, cost=879.319490\n",
      "Iteration 100 / 100, duration=4791.0ms, cost=879.319490\n"
     ]
    }
   ],
   "source": [
    "nmf = BetaNMF(X.shape, n_components, beta, n_iter, verbose=10,\n",
    "              cache1_size=cache1_size, batch_size=batch_size,\n",
    "              W=W_init, H=H_init, init_mode='custom', solver='gsg_mu')\n",
    "score_gsg_mu = nmf.fit(X)"
   ]
  },
  {
   "cell_type": "markdown",
   "metadata": {},
   "source": [
    "## Asymmetric SAG mini-batch MU (ASAG-MU) for BetaNMF\n",
    "This algorithm updates `W` for each mini-batch, this approach is denoted asymmetric SAG mini-batch MU (ASAG-MU) as `H` and `W` are updated asymmetrically (the full `H` is updated once per epoch while `W` is updated for each mini-batch)."
   ]
  },
  {
   "cell_type": "code",
   "execution_count": 19,
   "metadata": {
    "collapsed": false
   },
   "outputs": [
    {
     "name": "stdout",
     "output_type": "stream",
     "text": [
      "Intitial score = 202196.45\n",
      "Fitting NMF model with 100 iterations....\n",
      "Iteration 10 / 100, duration=587.0ms, cost=1093.473673\n",
      "Iteration 20 / 100, duration=1076.0ms, cost=888.312700\n",
      "Iteration 30 / 100, duration=1581.0ms, cost=852.523551\n",
      "Iteration 40 / 100, duration=2068.0ms, cost=840.599242\n",
      "Iteration 50 / 100, duration=2580.0ms, cost=834.407340\n",
      "Iteration 60 / 100, duration=3104.0ms, cost=830.406653\n",
      "Iteration 70 / 100, duration=3595.0ms, cost=827.553189\n",
      "Iteration 80 / 100, duration=4091.0ms, cost=825.480846\n",
      "Iteration 90 / 100, duration=4600.0ms, cost=823.899386\n",
      "Iteration 100 / 100, duration=5098.0ms, cost=822.851185\n",
      "Iteration 100 / 100, duration=5098.0ms, cost=822.851185\n"
     ]
    }
   ],
   "source": [
    "nmf = BetaNMF(X.shape, n_components, beta, n_iter, verbose=10,\n",
    "              cache1_size=cache1_size, batch_size=batch_size,\n",
    "              W=W_init, H=H_init, init_mode='custom', solver='asag_mu')\n",
    "score_asag_mu = nmf.fit(X)"
   ]
  },
  {
   "cell_type": "markdown",
   "metadata": {},
   "source": [
    "## Greedy SAG mini-batch MU (GSAG-MU) for BetaNMF\n",
    "This algorithm updates `W` only once per epoch on a randomly selected mini-batch."
   ]
  },
  {
   "cell_type": "code",
   "execution_count": 20,
   "metadata": {
    "collapsed": false
   },
   "outputs": [
    {
     "name": "stdout",
     "output_type": "stream",
     "text": [
      "Intitial score = 202196.45\n",
      "Fitting NMF model with 100 iterations....\n",
      "Iteration 10 / 100, duration=533.0ms, cost=1252.533378\n",
      "Iteration 20 / 100, duration=967.0ms, cost=1012.371771\n",
      "Iteration 30 / 100, duration=1503.0ms, cost=954.313889\n",
      "Iteration 40 / 100, duration=1932.0ms, cost=936.744015\n",
      "Iteration 50 / 100, duration=2359.0ms, cost=927.994787\n",
      "Iteration 60 / 100, duration=2786.0ms, cost=922.665649\n",
      "Iteration 70 / 100, duration=3258.0ms, cost=919.188689\n",
      "Iteration 80 / 100, duration=3688.0ms, cost=917.129562\n",
      "Iteration 90 / 100, duration=4131.0ms, cost=915.913167\n",
      "Iteration 100 / 100, duration=4568.0ms, cost=915.031773\n",
      "Iteration 100 / 100, duration=4568.0ms, cost=915.031773\n"
     ]
    }
   ],
   "source": [
    "nmf = BetaNMF(X.shape, n_components, beta, n_iter, verbose=10,\n",
    "              cache1_size=cache1_size, batch_size=batch_size,\n",
    "              W=W_init, H=H_init, init_mode='custom', solver='gsag_mu')\n",
    "score_gsag_mu = nmf.fit(X)"
   ]
  },
  {
   "cell_type": "markdown",
   "metadata": {},
   "source": [
    "## Plot the results"
   ]
  },
  {
   "cell_type": "markdown",
   "metadata": {},
   "source": [
    "Create the figure:"
   ]
  },
  {
   "cell_type": "code",
   "execution_count": 21,
   "metadata": {
    "collapsed": false
   },
   "outputs": [
    {
     "data": {
      "text/html": [
       "\n",
       "    <div class=\"bk-root\">\n",
       "        <a href=\"http://bokeh.pydata.org\" target=\"_blank\" class=\"bk-logo bk-logo-small bk-logo-notebook\"></a>\n",
       "        <span id=\"026e4c52-6677-430c-ae27-31dc9d13ff38\">Loading BokehJS ...</span>\n",
       "    </div>"
      ]
     },
     "metadata": {},
     "output_type": "display_data"
    },
    {
     "data": {
      "application/javascript": [
       "\n",
       "(function(global) {\n",
       "  function now() {\n",
       "    return new Date();\n",
       "  }\n",
       "\n",
       "  if (typeof (window._bokeh_onload_callbacks) === \"undefined\") {\n",
       "    window._bokeh_onload_callbacks = [];\n",
       "  }\n",
       "\n",
       "  function run_callbacks() {\n",
       "    window._bokeh_onload_callbacks.forEach(function(callback) { callback() });\n",
       "    delete window._bokeh_onload_callbacks\n",
       "    console.info(\"Bokeh: all callbacks have finished\");\n",
       "  }\n",
       "\n",
       "  function load_libs(js_urls, callback) {\n",
       "    window._bokeh_onload_callbacks.push(callback);\n",
       "    if (window._bokeh_is_loading > 0) {\n",
       "      console.log(\"Bokeh: BokehJS is being loaded, scheduling callback at\", now());\n",
       "      return null;\n",
       "    }\n",
       "    if (js_urls == null || js_urls.length === 0) {\n",
       "      run_callbacks();\n",
       "      return null;\n",
       "    }\n",
       "    console.log(\"Bokeh: BokehJS not loaded, scheduling load and callback at\", now());\n",
       "    window._bokeh_is_loading = js_urls.length;\n",
       "    for (var i = 0; i < js_urls.length; i++) {\n",
       "      var url = js_urls[i];\n",
       "      var s = document.createElement('script');\n",
       "      s.src = url;\n",
       "      s.async = false;\n",
       "      s.onreadystatechange = s.onload = function() {\n",
       "        window._bokeh_is_loading--;\n",
       "        if (window._bokeh_is_loading === 0) {\n",
       "          console.log(\"Bokeh: all BokehJS libraries loaded\");\n",
       "          run_callbacks()\n",
       "        }\n",
       "      };\n",
       "      s.onerror = function() {\n",
       "        console.warn(\"failed to load library \" + url);\n",
       "      };\n",
       "      console.log(\"Bokeh: injecting script tag for BokehJS library: \", url);\n",
       "      document.getElementsByTagName(\"head\")[0].appendChild(s);\n",
       "    }\n",
       "  };\n",
       "\n",
       "  var js_urls = ['https://cdn.pydata.org/bokeh/release/bokeh-0.12.0.min.js', 'https://cdn.pydata.org/bokeh/release/bokeh-widgets-0.12.0.min.js', 'https://cdn.pydata.org/bokeh/release/bokeh-compiler-0.12.0.min.js'];\n",
       "\n",
       "  var inline_js = [\n",
       "    function(Bokeh) {\n",
       "      Bokeh.set_log_level(\"info\");\n",
       "    },\n",
       "    \n",
       "    function(Bokeh) {\n",
       "      Bokeh.$(\"#026e4c52-6677-430c-ae27-31dc9d13ff38\").text(\"BokehJS successfully loaded\");\n",
       "    },\n",
       "    function(Bokeh) {\n",
       "      console.log(\"Bokeh: injecting CSS: https://cdn.pydata.org/bokeh/release/bokeh-0.12.0.min.css\");\n",
       "      Bokeh.embed.inject_css(\"https://cdn.pydata.org/bokeh/release/bokeh-0.12.0.min.css\");\n",
       "      console.log(\"Bokeh: injecting CSS: https://cdn.pydata.org/bokeh/release/bokeh-widgets-0.12.0.min.css\");\n",
       "      Bokeh.embed.inject_css(\"https://cdn.pydata.org/bokeh/release/bokeh-widgets-0.12.0.min.css\");\n",
       "    }\n",
       "  ];\n",
       "\n",
       "  function run_inline_js() {\n",
       "    for (var i = 0; i < inline_js.length; i++) {\n",
       "      inline_js[i](window.Bokeh);\n",
       "    }\n",
       "  }\n",
       "\n",
       "  if (window._bokeh_is_loading === 0) {\n",
       "    console.log(\"Bokeh: BokehJS loaded, going straight to plotting\");\n",
       "    run_inline_js();\n",
       "  } else {\n",
       "    load_libs(js_urls, function() {\n",
       "      console.log(\"Bokeh: BokehJS plotting callback run at\", now());\n",
       "      run_inline_js();\n",
       "    });\n",
       "  }\n",
       "}(this));"
      ]
     },
     "metadata": {},
     "output_type": "display_data"
    }
   ],
   "source": [
    "output_notebook()"
   ]
  },
  {
   "cell_type": "code",
   "execution_count": 22,
   "metadata": {
    "collapsed": false
   },
   "outputs": [],
   "source": [
    "p = figure(title=\"Mini-batch algorithms performance (cost)\")"
   ]
  },
  {
   "cell_type": "markdown",
   "metadata": {},
   "source": [
    "Add the data to plot:"
   ]
  },
  {
   "cell_type": "code",
   "execution_count": 23,
   "metadata": {
    "collapsed": false
   },
   "outputs": [
    {
     "data": {
      "text/plain": [
       "<bokeh.models.renderers.GlyphRenderer at 0xb3f0748>"
      ]
     },
     "execution_count": 23,
     "metadata": {},
     "output_type": "execute_result"
    }
   ],
   "source": [
    "#MU mini-batch\n",
    "p.line(score_mu_batch[1:, 1], score_mu_batch[1:, 0], \n",
    "       legend=\"MU mini batch\",\n",
    "       line_dash=[4, 4], line_color=\"red\", line_width=2)\n",
    "#ASG-MU\n",
    "p.square(score_asg_mu[1:, 1], score_asg_mu[1:, 0],\n",
    "          legend=\"ASG-MU\",\n",
    "          fill_color=\"green\", line_color=\"black\")\n",
    "p.line(score_asg_mu[1:, 1], score_asg_mu[1:, 0],\n",
    "        legend=\"ASG-MU\",\n",
    "        line_color=\"green\", line_width=2)\n",
    "#GSG_MU\n",
    "p.square(score_gsg_mu[2:, 1], score_gsg_mu[2:, 0],\n",
    "          legend=\"GSG-MU\",\n",
    "          fill_color=\"green\", line_color=\"black\")\n",
    "p.line(score_gsg_mu[1:, 1], score_gsg_mu[1:, 0],\n",
    "        legend=\"GSG-MU\",\n",
    "        line_color=\"green\")\n",
    "#ASAG-MU\n",
    "p.circle(score_asag_mu[3:, 1], score_asag_mu[3:, 0],\n",
    "          legend=\"ASAG-MU\",\n",
    "          fill_color=\"black\", line_color=\"black\")\n",
    "p.line(score_asag_mu[1:, 1], score_asag_mu[1:, 0],\n",
    "        legend=\"ASAG-MU\",\n",
    "        line_color=\"black\", line_width=2)\n",
    "#GSAG_MU\n",
    "p.circle(score_gsag_mu[4:, 1], score_gsag_mu[4:, 0],\n",
    "          legend=\"GSAG-MU\",\n",
    "          fill_color=\"black\", line_color=\"black\")\n",
    "p.line(score_gsag_mu[1:, 1], score_gsag_mu[1:, 0],\n",
    "        legend=\"GSAG-MU\",\n",
    "        line_color=\"black\")"
   ]
  },
  {
   "cell_type": "markdown",
   "metadata": {},
   "source": [
    "Show the figure:"
   ]
  },
  {
   "cell_type": "code",
   "execution_count": 24,
   "metadata": {
    "collapsed": false
   },
   "outputs": [
    {
     "data": {
      "text/html": [
       "\n",
       "\n",
       "    <div class=\"bk-root\">\n",
       "        <div class=\"plotdiv\" id=\"904d3641-dc81-4297-a781-ffcaa8b0a546\"></div>\n",
       "    </div>\n",
       "<script type=\"text/javascript\">\n",
       "  \n",
       "  (function(global) {\n",
       "    function now() {\n",
       "      return new Date();\n",
       "    }\n",
       "  \n",
       "    if (typeof (window._bokeh_onload_callbacks) === \"undefined\") {\n",
       "      window._bokeh_onload_callbacks = [];\n",
       "    }\n",
       "  \n",
       "    function run_callbacks() {\n",
       "      window._bokeh_onload_callbacks.forEach(function(callback) { callback() });\n",
       "      delete window._bokeh_onload_callbacks\n",
       "      console.info(\"Bokeh: all callbacks have finished\");\n",
       "    }\n",
       "  \n",
       "    function load_libs(js_urls, callback) {\n",
       "      window._bokeh_onload_callbacks.push(callback);\n",
       "      if (window._bokeh_is_loading > 0) {\n",
       "        console.log(\"Bokeh: BokehJS is being loaded, scheduling callback at\", now());\n",
       "        return null;\n",
       "      }\n",
       "      if (js_urls == null || js_urls.length === 0) {\n",
       "        run_callbacks();\n",
       "        return null;\n",
       "      }\n",
       "      console.log(\"Bokeh: BokehJS not loaded, scheduling load and callback at\", now());\n",
       "      window._bokeh_is_loading = js_urls.length;\n",
       "      for (var i = 0; i < js_urls.length; i++) {\n",
       "        var url = js_urls[i];\n",
       "        var s = document.createElement('script');\n",
       "        s.src = url;\n",
       "        s.async = false;\n",
       "        s.onreadystatechange = s.onload = function() {\n",
       "          window._bokeh_is_loading--;\n",
       "          if (window._bokeh_is_loading === 0) {\n",
       "            console.log(\"Bokeh: all BokehJS libraries loaded\");\n",
       "            run_callbacks()\n",
       "          }\n",
       "        };\n",
       "        s.onerror = function() {\n",
       "          console.warn(\"failed to load library \" + url);\n",
       "        };\n",
       "        console.log(\"Bokeh: injecting script tag for BokehJS library: \", url);\n",
       "        document.getElementsByTagName(\"head\")[0].appendChild(s);\n",
       "      }\n",
       "    };var element = document.getElementById(\"904d3641-dc81-4297-a781-ffcaa8b0a546\");\n",
       "    if (element == null) {\n",
       "      console.log(\"Bokeh: ERROR: autoload.js configured with elementid '904d3641-dc81-4297-a781-ffcaa8b0a546' but no matching script tag was found. \")\n",
       "      return false;\n",
       "    }\n",
       "  \n",
       "    var js_urls = [];\n",
       "  \n",
       "    var inline_js = [\n",
       "      function(Bokeh) {\n",
       "        Bokeh.$(function() {\n",
       "            var docs_json = {\"a6cea745-cfa4-47e3-b76c-cba94978c137\":{\"roots\":{\"references\":[{\"attributes\":{\"dimension\":1,\"plot\":{\"id\":\"ccc186f2-b563-4359-bee2-987f072c667c\",\"subtype\":\"Figure\",\"type\":\"Plot\"},\"ticker\":{\"id\":\"41790a34-643b-4c97-a11b-da65207dcd8a\",\"type\":\"BasicTicker\"}},\"id\":\"bd0df7cf-1e8d-4e78-bdc3-2aafbd2dcfae\",\"type\":\"Grid\"},{\"attributes\":{\"plot\":{\"id\":\"ccc186f2-b563-4359-bee2-987f072c667c\",\"subtype\":\"Figure\",\"type\":\"Plot\"}},\"id\":\"917e2e67-fdc0-4e1f-9eb4-d46a5fc5f8b0\",\"type\":\"ResetTool\"},{\"attributes\":{\"callback\":null,\"column_names\":[\"y\",\"x\"],\"data\":{\"x\":[1.1299998760223389,1.555999994277954,1.9909999370574951,2.428999900817871,2.941999673843384,3.372999668121338,3.857999563217163,4.36199951171875,4.790999412536621,4.790999412536621],\"y\":[1029.9890616316804,954.8742739589892,920.177901411979,903.5403645932493,894.9547592542436,889.3970836229449,885.0061453846797,881.7939558436572,879.3194896195205,879.3194896195205]}},\"id\":\"edffbbbf-ae81-4729-aa09-202d6d55ea4a\",\"type\":\"ColumnDataSource\"},{\"attributes\":{\"callback\":null,\"column_names\":[\"y\",\"x\"],\"data\":{\"x\":[0.5870001316070557,1.0759999752044678,1.5810000896453857,2.068000078201294,2.580000162124634,3.1040000915527344,3.5950000286102295,4.0909998416900635,4.599999904632568,5.097999811172485,5.097999811172485],\"y\":[1093.4736730451905,888.3126998382895,852.5235509242447,840.5992420681455,834.4073398161297,830.4066529414372,827.5531885363018,825.4808464469306,823.8993863857577,822.8511851071021,822.8511851071021]}},\"id\":\"2117b0d1-1a76-445c-96d2-91e3772add6b\",\"type\":\"ColumnDataSource\"},{\"attributes\":{\"fill_alpha\":{\"value\":0.1},\"fill_color\":{\"value\":\"#1f77b4\"},\"line_alpha\":{\"value\":0.1},\"line_color\":{\"value\":\"#1f77b4\"},\"x\":{\"field\":\"x\"},\"y\":{\"field\":\"y\"}},\"id\":\"f6578660-9b2b-46d6-9559-1d6b0c1ae71a\",\"type\":\"Circle\"},{\"attributes\":{\"line_alpha\":{\"value\":0.1},\"line_color\":{\"value\":\"#1f77b4\"},\"x\":{\"field\":\"x\"},\"y\":{\"field\":\"y\"}},\"id\":\"2ffd13eb-6b08-46ec-98ff-72d8adc64265\",\"type\":\"Line\"},{\"attributes\":{\"fill_color\":{\"value\":\"black\"},\"x\":{\"field\":\"x\"},\"y\":{\"field\":\"y\"}},\"id\":\"56c41e08-fff7-4d6d-9d9b-5526cca3cdef\",\"type\":\"Circle\"},{\"attributes\":{\"x\":{\"field\":\"x\"},\"y\":{\"field\":\"y\"}},\"id\":\"53d37890-e4d0-4cdd-ae9e-6c18133dfdb9\",\"type\":\"Line\"},{\"attributes\":{\"bottom_units\":\"screen\",\"fill_alpha\":{\"value\":0.5},\"fill_color\":{\"value\":\"lightgrey\"},\"left_units\":\"screen\",\"level\":\"overlay\",\"line_alpha\":{\"value\":1.0},\"line_color\":{\"value\":\"black\"},\"line_dash\":[4,4],\"line_width\":{\"value\":2},\"plot\":null,\"render_mode\":\"css\",\"right_units\":\"screen\",\"top_units\":\"screen\"},\"id\":\"86da1b00-5fc6-4b2f-9f75-fd7cad8266d4\",\"type\":\"BoxAnnotation\"},{\"attributes\":{\"data_source\":{\"id\":\"edffbbbf-ae81-4729-aa09-202d6d55ea4a\",\"type\":\"ColumnDataSource\"},\"glyph\":{\"id\":\"0986e1df-643b-414f-ba0b-6f1ac961e758\",\"type\":\"Square\"},\"hover_glyph\":null,\"nonselection_glyph\":{\"id\":\"5dccdbc0-ee3a-4409-ac45-1c8e7caee232\",\"type\":\"Square\"},\"selection_glyph\":null},\"id\":\"407a245e-e6f6-429b-b049-e729b70f338c\",\"type\":\"GlyphRenderer\"},{\"attributes\":{\"fill_alpha\":{\"value\":0.1},\"fill_color\":{\"value\":\"#1f77b4\"},\"line_alpha\":{\"value\":0.1},\"line_color\":{\"value\":\"#1f77b4\"},\"x\":{\"field\":\"x\"},\"y\":{\"field\":\"y\"}},\"id\":\"b31a6d1a-8fd3-4a55-8723-1dc200d84ae9\",\"type\":\"Square\"},{\"attributes\":{\"callback\":null,\"column_names\":[\"y\",\"x\"],\"data\":{\"x\":[0.7029998302459717,1.1299998760223389,1.555999994277954,1.9909999370574951,2.428999900817871,2.941999673843384,3.372999668121338,3.857999563217163,4.36199951171875,4.790999412536621,4.790999412536621],\"y\":[1248.2595704138873,1029.9890616316804,954.8742739589892,920.177901411979,903.5403645932493,894.9547592542436,889.3970836229449,885.0061453846797,881.7939558436572,879.3194896195205,879.3194896195205]}},\"id\":\"ebec407a-061a-4178-b820-a24295bd0770\",\"type\":\"ColumnDataSource\"},{\"attributes\":{\"callback\":null},\"id\":\"99cff70e-c625-46d7-b409-88ba311e124c\",\"type\":\"DataRange1d\"},{\"attributes\":{},\"id\":\"4ef269b7-9d21-48d5-8ba4-ae81ca2d668a\",\"type\":\"BasicTicker\"},{\"attributes\":{},\"id\":\"a6e86506-66fb-4610-8b82-6f4b29fb72dd\",\"type\":\"ToolEvents\"},{\"attributes\":{\"plot\":{\"id\":\"ccc186f2-b563-4359-bee2-987f072c667c\",\"subtype\":\"Figure\",\"type\":\"Plot\"}},\"id\":\"b51996f2-dafe-453c-9ca5-6adf77aef70d\",\"type\":\"WheelZoomTool\"},{\"attributes\":{\"callback\":null,\"column_names\":[\"y\",\"x\"],\"data\":{\"x\":[1.5810000896453857,2.068000078201294,2.580000162124634,3.1040000915527344,3.5950000286102295,4.0909998416900635,4.599999904632568,5.097999811172485,5.097999811172485],\"y\":[852.5235509242447,840.5992420681455,834.4073398161297,830.4066529414372,827.5531885363018,825.4808464469306,823.8993863857577,822.8511851071021,822.8511851071021]}},\"id\":\"49afa639-590e-427e-b4d6-085390c0f209\",\"type\":\"ColumnDataSource\"},{\"attributes\":{},\"id\":\"41790a34-643b-4c97-a11b-da65207dcd8a\",\"type\":\"BasicTicker\"},{\"attributes\":{\"data_source\":{\"id\":\"49afa639-590e-427e-b4d6-085390c0f209\",\"type\":\"ColumnDataSource\"},\"glyph\":{\"id\":\"56c41e08-fff7-4d6d-9d9b-5526cca3cdef\",\"type\":\"Circle\"},\"hover_glyph\":null,\"nonselection_glyph\":{\"id\":\"4d7c70bc-2f0f-4cde-be13-637443cee892\",\"type\":\"Circle\"},\"selection_glyph\":null},\"id\":\"dc9cc006-ac35-4728-8a3a-bcc4595d551a\",\"type\":\"GlyphRenderer\"},{\"attributes\":{\"active_drag\":\"auto\",\"active_scroll\":\"auto\",\"active_tap\":\"auto\",\"tools\":[{\"id\":\"81982178-b9c5-4024-815f-a3469b1080d3\",\"type\":\"PanTool\"},{\"id\":\"b51996f2-dafe-453c-9ca5-6adf77aef70d\",\"type\":\"WheelZoomTool\"},{\"id\":\"17b2177c-c335-43a7-8ec0-3750214a6f3c\",\"type\":\"BoxZoomTool\"},{\"id\":\"dd4869d5-fee9-4109-a18a-30ac457f61ef\",\"type\":\"SaveTool\"},{\"id\":\"917e2e67-fdc0-4e1f-9eb4-d46a5fc5f8b0\",\"type\":\"ResetTool\"},{\"id\":\"93e7db7f-5c77-4145-82a5-940d493b3ca7\",\"type\":\"HelpTool\"}]},\"id\":\"1d3e302f-7a9b-44e5-9307-e60885eb84ff\",\"type\":\"Toolbar\"},{\"attributes\":{\"callback\":null,\"column_names\":[\"y\",\"x\"],\"data\":{\"x\":[0.6319999694824219,1.1610000133514404,1.690000057220459,2.126000165939331,2.6140003204345703,3.0490002632141113,3.565000295639038,4.000000238418579,4.492000341415405,4.952000379562378,4.952000379562378],\"y\":[1254.2923076627592,1031.063437237993,942.9990028889185,899.7412236800583,876.3436542460272,861.9490851688695,852.5868945876858,845.8681321271631,841.0497923540124,837.4167372732752,837.4167372732752]}},\"id\":\"1b23087d-2c6e-45e1-a34a-13f78d3614e9\",\"type\":\"ColumnDataSource\"},{\"attributes\":{\"data_source\":{\"id\":\"1b23087d-2c6e-45e1-a34a-13f78d3614e9\",\"type\":\"ColumnDataSource\"},\"glyph\":{\"id\":\"5885934e-6bfb-4c2b-ab6d-87ed05cc3a67\",\"type\":\"Line\"},\"hover_glyph\":null,\"nonselection_glyph\":{\"id\":\"d868dd39-d25f-48cc-b5ee-3b6b62b5f00d\",\"type\":\"Line\"},\"selection_glyph\":null},\"id\":\"8d6d3ed2-e337-4911-9191-98e01c672bd8\",\"type\":\"GlyphRenderer\"},{\"attributes\":{\"plot\":{\"id\":\"ccc186f2-b563-4359-bee2-987f072c667c\",\"subtype\":\"Figure\",\"type\":\"Plot\"}},\"id\":\"dd4869d5-fee9-4109-a18a-30ac457f61ef\",\"type\":\"SaveTool\"},{\"attributes\":{\"data_source\":{\"id\":\"80630b2f-b5ef-4bec-9d75-232599d71a6b\",\"type\":\"ColumnDataSource\"},\"glyph\":{\"id\":\"35814b41-8d65-4464-80d8-3e2f3624454b\",\"type\":\"Line\"},\"hover_glyph\":null,\"nonselection_glyph\":{\"id\":\"5c742261-5184-4339-b529-400f50e9cb9f\",\"type\":\"Line\"},\"selection_glyph\":null},\"id\":\"6041c30e-fc96-4c9d-a7e1-5c508887bb1f\",\"type\":\"GlyphRenderer\"},{\"attributes\":{\"line_alpha\":{\"value\":0.1},\"line_color\":{\"value\":\"#1f77b4\"},\"line_width\":{\"value\":2},\"x\":{\"field\":\"x\"},\"y\":{\"field\":\"y\"}},\"id\":\"b9f8b6ad-c56b-4aeb-a806-1ea7d12c9104\",\"type\":\"Line\"},{\"attributes\":{\"callback\":null,\"column_names\":[\"y\",\"x\"],\"data\":{\"x\":[0.5900001525878906,1.2369999885559082,1.738999843597412,2.2199997901916504,2.7059996128082275,3.1909995079040527,3.679999351501465,4.187999486923218,4.673999547958374,5.2719995975494385,5.2719995975494385],\"y\":[1130.3360330005846,912.1284761546757,867.4943146853386,853.8986669229675,847.255569524212,843.121394618059,840.5684733976755,838.3967604492143,836.7631847886614,835.3400033277521,835.3400033277521]}},\"id\":\"bc38105a-f6a0-47d3-b633-8873eb5e4e45\",\"type\":\"ColumnDataSource\"},{\"attributes\":{\"fill_color\":{\"value\":\"green\"},\"x\":{\"field\":\"x\"},\"y\":{\"field\":\"y\"}},\"id\":\"0986e1df-643b-414f-ba0b-6f1ac961e758\",\"type\":\"Square\"},{\"attributes\":{\"below\":[{\"id\":\"529aa1f1-fec7-439a-8581-2041a9ceef0b\",\"type\":\"LinearAxis\"}],\"left\":[{\"id\":\"a9cb9c36-8382-4c99-b3d2-9eb152bd491e\",\"type\":\"LinearAxis\"}],\"renderers\":[{\"id\":\"529aa1f1-fec7-439a-8581-2041a9ceef0b\",\"type\":\"LinearAxis\"},{\"id\":\"33cb5d41-fdbb-4e6b-8968-b75e7a6a7b62\",\"type\":\"Grid\"},{\"id\":\"a9cb9c36-8382-4c99-b3d2-9eb152bd491e\",\"type\":\"LinearAxis\"},{\"id\":\"bd0df7cf-1e8d-4e78-bdc3-2aafbd2dcfae\",\"type\":\"Grid\"},{\"id\":\"86da1b00-5fc6-4b2f-9f75-fd7cad8266d4\",\"type\":\"BoxAnnotation\"},{\"id\":\"06ebd7d0-e863-4721-82e7-944638a6d8b4\",\"type\":\"Legend\"},{\"id\":\"8d6d3ed2-e337-4911-9191-98e01c672bd8\",\"type\":\"GlyphRenderer\"},{\"id\":\"bf327844-2545-46f7-a614-963b39f72d67\",\"type\":\"GlyphRenderer\"},{\"id\":\"6041c30e-fc96-4c9d-a7e1-5c508887bb1f\",\"type\":\"GlyphRenderer\"},{\"id\":\"407a245e-e6f6-429b-b049-e729b70f338c\",\"type\":\"GlyphRenderer\"},{\"id\":\"e2325e8b-c57d-4cfd-af15-fe3cc3c91a0c\",\"type\":\"GlyphRenderer\"},{\"id\":\"dc9cc006-ac35-4728-8a3a-bcc4595d551a\",\"type\":\"GlyphRenderer\"},{\"id\":\"221891b0-bdba-4231-8e50-53bbaef568aa\",\"type\":\"GlyphRenderer\"},{\"id\":\"5f312227-01fc-4479-9aff-ff13bb717e8d\",\"type\":\"GlyphRenderer\"},{\"id\":\"d0d58a7b-ecb5-4e0c-960b-e622bfde8e09\",\"type\":\"GlyphRenderer\"}],\"title\":{\"id\":\"81aa15e9-b8c1-4056-b913-660f8ce0c652\",\"type\":\"Title\"},\"tool_events\":{\"id\":\"a6e86506-66fb-4610-8b82-6f4b29fb72dd\",\"type\":\"ToolEvents\"},\"toolbar\":{\"id\":\"1d3e302f-7a9b-44e5-9307-e60885eb84ff\",\"type\":\"Toolbar\"},\"x_range\":{\"id\":\"99cff70e-c625-46d7-b409-88ba311e124c\",\"type\":\"DataRange1d\"},\"y_range\":{\"id\":\"c1b9eae9-5859-447a-a0b8-635026082562\",\"type\":\"DataRange1d\"}},\"id\":\"ccc186f2-b563-4359-bee2-987f072c667c\",\"subtype\":\"Figure\",\"type\":\"Plot\"},{\"attributes\":{\"plot\":{\"id\":\"ccc186f2-b563-4359-bee2-987f072c667c\",\"subtype\":\"Figure\",\"type\":\"Plot\"},\"ticker\":{\"id\":\"4ef269b7-9d21-48d5-8ba4-ae81ca2d668a\",\"type\":\"BasicTicker\"}},\"id\":\"33cb5d41-fdbb-4e6b-8968-b75e7a6a7b62\",\"type\":\"Grid\"},{\"attributes\":{\"callback\":null},\"id\":\"c1b9eae9-5859-447a-a0b8-635026082562\",\"type\":\"DataRange1d\"},{\"attributes\":{},\"id\":\"3d94ae17-70ac-4a7e-8b1a-103a6a47118b\",\"type\":\"BasicTickFormatter\"},{\"attributes\":{\"plot\":{\"id\":\"ccc186f2-b563-4359-bee2-987f072c667c\",\"subtype\":\"Figure\",\"type\":\"Plot\"}},\"id\":\"93e7db7f-5c77-4145-82a5-940d493b3ca7\",\"type\":\"HelpTool\"},{\"attributes\":{},\"id\":\"5e9db973-fbde-4e94-b027-60eb406bac1b\",\"type\":\"BasicTickFormatter\"},{\"attributes\":{\"overlay\":{\"id\":\"86da1b00-5fc6-4b2f-9f75-fd7cad8266d4\",\"type\":\"BoxAnnotation\"},\"plot\":{\"id\":\"ccc186f2-b563-4359-bee2-987f072c667c\",\"subtype\":\"Figure\",\"type\":\"Plot\"}},\"id\":\"17b2177c-c335-43a7-8ec0-3750214a6f3c\",\"type\":\"BoxZoomTool\"},{\"attributes\":{\"line_color\":{\"value\":\"green\"},\"line_width\":{\"value\":2},\"x\":{\"field\":\"x\"},\"y\":{\"field\":\"y\"}},\"id\":\"35814b41-8d65-4464-80d8-3e2f3624454b\",\"type\":\"Line\"},{\"attributes\":{\"plot\":{\"id\":\"ccc186f2-b563-4359-bee2-987f072c667c\",\"subtype\":\"Figure\",\"type\":\"Plot\"}},\"id\":\"81982178-b9c5-4024-815f-a3469b1080d3\",\"type\":\"PanTool\"},{\"attributes\":{\"line_alpha\":{\"value\":0.1},\"line_color\":{\"value\":\"#1f77b4\"},\"x\":{\"field\":\"x\"},\"y\":{\"field\":\"y\"}},\"id\":\"796932a7-7b8a-4791-9124-962b7da0c711\",\"type\":\"Line\"},{\"attributes\":{\"data_source\":{\"id\":\"bc38105a-f6a0-47d3-b633-8873eb5e4e45\",\"type\":\"ColumnDataSource\"},\"glyph\":{\"id\":\"a26529b9-bfe6-4afb-a8e0-9fbcb83c5e59\",\"type\":\"Square\"},\"hover_glyph\":null,\"nonselection_glyph\":{\"id\":\"b31a6d1a-8fd3-4a55-8723-1dc200d84ae9\",\"type\":\"Square\"},\"selection_glyph\":null},\"id\":\"bf327844-2545-46f7-a614-963b39f72d67\",\"type\":\"GlyphRenderer\"},{\"attributes\":{\"legends\":[[\"MU mini batch\",[{\"id\":\"8d6d3ed2-e337-4911-9191-98e01c672bd8\",\"type\":\"GlyphRenderer\"}]],[\"ASG-MU\",[{\"id\":\"bf327844-2545-46f7-a614-963b39f72d67\",\"type\":\"GlyphRenderer\"},{\"id\":\"6041c30e-fc96-4c9d-a7e1-5c508887bb1f\",\"type\":\"GlyphRenderer\"}]],[\"GSG-MU\",[{\"id\":\"407a245e-e6f6-429b-b049-e729b70f338c\",\"type\":\"GlyphRenderer\"},{\"id\":\"e2325e8b-c57d-4cfd-af15-fe3cc3c91a0c\",\"type\":\"GlyphRenderer\"}]],[\"ASAG-MU\",[{\"id\":\"dc9cc006-ac35-4728-8a3a-bcc4595d551a\",\"type\":\"GlyphRenderer\"},{\"id\":\"221891b0-bdba-4231-8e50-53bbaef568aa\",\"type\":\"GlyphRenderer\"}]],[\"GSAG-MU\",[{\"id\":\"5f312227-01fc-4479-9aff-ff13bb717e8d\",\"type\":\"GlyphRenderer\"},{\"id\":\"d0d58a7b-ecb5-4e0c-960b-e622bfde8e09\",\"type\":\"GlyphRenderer\"}]]],\"plot\":{\"id\":\"ccc186f2-b563-4359-bee2-987f072c667c\",\"subtype\":\"Figure\",\"type\":\"Plot\"}},\"id\":\"06ebd7d0-e863-4721-82e7-944638a6d8b4\",\"type\":\"Legend\"},{\"attributes\":{\"formatter\":{\"id\":\"3d94ae17-70ac-4a7e-8b1a-103a6a47118b\",\"type\":\"BasicTickFormatter\"},\"plot\":{\"id\":\"ccc186f2-b563-4359-bee2-987f072c667c\",\"subtype\":\"Figure\",\"type\":\"Plot\"},\"ticker\":{\"id\":\"4ef269b7-9d21-48d5-8ba4-ae81ca2d668a\",\"type\":\"BasicTicker\"}},\"id\":\"529aa1f1-fec7-439a-8581-2041a9ceef0b\",\"type\":\"LinearAxis\"},{\"attributes\":{\"data_source\":{\"id\":\"a829f584-997a-4fd9-8a94-b2154dd7394c\",\"type\":\"ColumnDataSource\"},\"glyph\":{\"id\":\"53d37890-e4d0-4cdd-ae9e-6c18133dfdb9\",\"type\":\"Line\"},\"hover_glyph\":null,\"nonselection_glyph\":{\"id\":\"2ffd13eb-6b08-46ec-98ff-72d8adc64265\",\"type\":\"Line\"},\"selection_glyph\":null},\"id\":\"d0d58a7b-ecb5-4e0c-960b-e622bfde8e09\",\"type\":\"GlyphRenderer\"},{\"attributes\":{\"fill_color\":{\"value\":\"green\"},\"x\":{\"field\":\"x\"},\"y\":{\"field\":\"y\"}},\"id\":\"a26529b9-bfe6-4afb-a8e0-9fbcb83c5e59\",\"type\":\"Square\"},{\"attributes\":{\"plot\":null,\"text\":\"Mini-batch algorithms performance (cost)\"},\"id\":\"81aa15e9-b8c1-4056-b913-660f8ce0c652\",\"type\":\"Title\"},{\"attributes\":{\"line_alpha\":{\"value\":0.1},\"line_color\":{\"value\":\"#1f77b4\"},\"line_width\":{\"value\":2},\"x\":{\"field\":\"x\"},\"y\":{\"field\":\"y\"}},\"id\":\"5c742261-5184-4339-b529-400f50e9cb9f\",\"type\":\"Line\"},{\"attributes\":{\"line_color\":{\"value\":\"green\"},\"x\":{\"field\":\"x\"},\"y\":{\"field\":\"y\"}},\"id\":\"321997f4-6828-4bd9-ae4a-9d576b401914\",\"type\":\"Line\"},{\"attributes\":{\"line_alpha\":{\"value\":0.1},\"line_color\":{\"value\":\"#1f77b4\"},\"line_dash\":[4,4],\"line_width\":{\"value\":2},\"x\":{\"field\":\"x\"},\"y\":{\"field\":\"y\"}},\"id\":\"d868dd39-d25f-48cc-b5ee-3b6b62b5f00d\",\"type\":\"Line\"},{\"attributes\":{\"fill_color\":{\"value\":\"black\"},\"x\":{\"field\":\"x\"},\"y\":{\"field\":\"y\"}},\"id\":\"33aa8a3f-9714-4b08-9c7f-69f62f371480\",\"type\":\"Circle\"},{\"attributes\":{\"data_source\":{\"id\":\"ebec407a-061a-4178-b820-a24295bd0770\",\"type\":\"ColumnDataSource\"},\"glyph\":{\"id\":\"321997f4-6828-4bd9-ae4a-9d576b401914\",\"type\":\"Line\"},\"hover_glyph\":null,\"nonselection_glyph\":{\"id\":\"796932a7-7b8a-4791-9124-962b7da0c711\",\"type\":\"Line\"},\"selection_glyph\":null},\"id\":\"e2325e8b-c57d-4cfd-af15-fe3cc3c91a0c\",\"type\":\"GlyphRenderer\"},{\"attributes\":{\"line_width\":{\"value\":2},\"x\":{\"field\":\"x\"},\"y\":{\"field\":\"y\"}},\"id\":\"49de28a9-6dc3-4489-a7d6-7bd8a5a1cdf9\",\"type\":\"Line\"},{\"attributes\":{\"line_color\":{\"value\":\"red\"},\"line_dash\":[4,4],\"line_width\":{\"value\":2},\"x\":{\"field\":\"x\"},\"y\":{\"field\":\"y\"}},\"id\":\"5885934e-6bfb-4c2b-ab6d-87ed05cc3a67\",\"type\":\"Line\"},{\"attributes\":{\"formatter\":{\"id\":\"5e9db973-fbde-4e94-b027-60eb406bac1b\",\"type\":\"BasicTickFormatter\"},\"plot\":{\"id\":\"ccc186f2-b563-4359-bee2-987f072c667c\",\"subtype\":\"Figure\",\"type\":\"Plot\"},\"ticker\":{\"id\":\"41790a34-643b-4c97-a11b-da65207dcd8a\",\"type\":\"BasicTicker\"}},\"id\":\"a9cb9c36-8382-4c99-b3d2-9eb152bd491e\",\"type\":\"LinearAxis\"},{\"attributes\":{\"data_source\":{\"id\":\"1c6cccb4-b40d-4a2d-853b-f9319492f6ac\",\"type\":\"ColumnDataSource\"},\"glyph\":{\"id\":\"33aa8a3f-9714-4b08-9c7f-69f62f371480\",\"type\":\"Circle\"},\"hover_glyph\":null,\"nonselection_glyph\":{\"id\":\"f6578660-9b2b-46d6-9559-1d6b0c1ae71a\",\"type\":\"Circle\"},\"selection_glyph\":null},\"id\":\"5f312227-01fc-4479-9aff-ff13bb717e8d\",\"type\":\"GlyphRenderer\"},{\"attributes\":{\"callback\":null,\"column_names\":[\"y\",\"x\"],\"data\":{\"x\":[0.5900001525878906,1.2369999885559082,1.738999843597412,2.2199997901916504,2.7059996128082275,3.1909995079040527,3.679999351501465,4.187999486923218,4.673999547958374,5.2719995975494385,5.2719995975494385],\"y\":[1130.3360330005846,912.1284761546757,867.4943146853386,853.8986669229675,847.255569524212,843.121394618059,840.5684733976755,838.3967604492143,836.7631847886614,835.3400033277521,835.3400033277521]}},\"id\":\"80630b2f-b5ef-4bec-9d75-232599d71a6b\",\"type\":\"ColumnDataSource\"},{\"attributes\":{\"fill_alpha\":{\"value\":0.1},\"fill_color\":{\"value\":\"#1f77b4\"},\"line_alpha\":{\"value\":0.1},\"line_color\":{\"value\":\"#1f77b4\"},\"x\":{\"field\":\"x\"},\"y\":{\"field\":\"y\"}},\"id\":\"5dccdbc0-ee3a-4409-ac45-1c8e7caee232\",\"type\":\"Square\"},{\"attributes\":{\"fill_alpha\":{\"value\":0.1},\"fill_color\":{\"value\":\"#1f77b4\"},\"line_alpha\":{\"value\":0.1},\"line_color\":{\"value\":\"#1f77b4\"},\"x\":{\"field\":\"x\"},\"y\":{\"field\":\"y\"}},\"id\":\"4d7c70bc-2f0f-4cde-be13-637443cee892\",\"type\":\"Circle\"},{\"attributes\":{\"callback\":null,\"column_names\":[\"y\",\"x\"],\"data\":{\"x\":[1.9320001602172852,2.3590002059936523,2.7860002517700195,3.258000135421753,3.688000202178955,4.13100004196167,4.568000078201294,4.568000078201294],\"y\":[936.7440145996255,927.9947871893273,922.6656491367335,919.1886891499327,917.1295620019008,915.9131671036791,915.0317733437801,915.0317733437801]}},\"id\":\"1c6cccb4-b40d-4a2d-853b-f9319492f6ac\",\"type\":\"ColumnDataSource\"},{\"attributes\":{\"data_source\":{\"id\":\"2117b0d1-1a76-445c-96d2-91e3772add6b\",\"type\":\"ColumnDataSource\"},\"glyph\":{\"id\":\"49de28a9-6dc3-4489-a7d6-7bd8a5a1cdf9\",\"type\":\"Line\"},\"hover_glyph\":null,\"nonselection_glyph\":{\"id\":\"b9f8b6ad-c56b-4aeb-a806-1ea7d12c9104\",\"type\":\"Line\"},\"selection_glyph\":null},\"id\":\"221891b0-bdba-4231-8e50-53bbaef568aa\",\"type\":\"GlyphRenderer\"},{\"attributes\":{\"callback\":null,\"column_names\":[\"y\",\"x\"],\"data\":{\"x\":[0.5329999923706055,0.9670000076293945,1.503000020980835,1.9320001602172852,2.3590002059936523,2.7860002517700195,3.258000135421753,3.688000202178955,4.13100004196167,4.568000078201294,4.568000078201294],\"y\":[1252.5333783877165,1012.3717705083652,954.3138893316875,936.7440145996255,927.9947871893273,922.6656491367335,919.1886891499327,917.1295620019008,915.9131671036791,915.0317733437801,915.0317733437801]}},\"id\":\"a829f584-997a-4fd9-8a94-b2154dd7394c\",\"type\":\"ColumnDataSource\"}],\"root_ids\":[\"ccc186f2-b563-4359-bee2-987f072c667c\"]},\"title\":\"Bokeh Application\",\"version\":\"0.12.0\"}};\n",
       "            var render_items = [{\"docid\":\"a6cea745-cfa4-47e3-b76c-cba94978c137\",\"elementid\":\"904d3641-dc81-4297-a781-ffcaa8b0a546\",\"modelid\":\"ccc186f2-b563-4359-bee2-987f072c667c\",\"notebook_comms_target\":\"ba41d371-973c-4807-8008-6da26fbf3243\"}];\n",
       "            \n",
       "            Bokeh.embed.embed_items(docs_json, render_items);\n",
       "        });\n",
       "      },\n",
       "      function(Bokeh) {\n",
       "      }\n",
       "    ];\n",
       "  \n",
       "    function run_inline_js() {\n",
       "      for (var i = 0; i < inline_js.length; i++) {\n",
       "        inline_js[i](window.Bokeh);\n",
       "      }\n",
       "    }\n",
       "  \n",
       "    if (window._bokeh_is_loading === 0) {\n",
       "      console.log(\"Bokeh: BokehJS loaded, going straight to plotting\");\n",
       "      run_inline_js();\n",
       "    } else {\n",
       "      load_libs(js_urls, function() {\n",
       "        console.log(\"Bokeh: BokehJS plotting callback run at\", now());\n",
       "        run_inline_js();\n",
       "      });\n",
       "    }\n",
       "  }(this));\n",
       "</script>"
      ]
     },
     "metadata": {},
     "output_type": "display_data"
    },
    {
     "data": {
      "text/html": [
       "<p><code>&lt;Bokeh Notebook handle for <strong>In[24]</strong>&gt;</code></p>"
      ],
      "text/plain": [
       "<bokeh.io._CommsHandle at 0xc1476d8>"
      ]
     },
     "execution_count": 24,
     "metadata": {},
     "output_type": "execute_result"
    }
   ],
   "source": [
    "show(p)"
   ]
  }
 ],
 "metadata": {
  "kernelspec": {
   "display_name": "Python 2",
   "language": "python",
   "name": "python2"
  },
  "language_info": {
   "codemirror_mode": {
    "name": "ipython",
    "version": 2
   },
   "file_extension": ".py",
   "mimetype": "text/x-python",
   "name": "python",
   "nbconvert_exporter": "python",
   "pygments_lexer": "ipython2",
   "version": "2.7.11"
  }
 },
 "nbformat": 4,
 "nbformat_minor": 0
}
